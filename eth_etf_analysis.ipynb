{
 "cells": [
  {
   "cell_type": "code",
   "execution_count": 1,
   "metadata": {},
   "outputs": [],
   "source": [
    "import pandas as pd"
   ]
  },
  {
   "cell_type": "code",
   "execution_count": 2,
   "metadata": {},
   "outputs": [],
   "source": [
    "# API Docs\n",
    "import dotenv, os\n",
    "from dune_client.types import QueryParameter\n",
    "from dune_client.client import DuneClient\n",
    "from dune_client.query import QueryBase\n",
    "\n",
    "# POST /v1/query/{query_id}/execute\n",
    "\n",
    "# GET /v1/execution/{execution_id}/results"
   ]
  },
  {
   "cell_type": "code",
   "execution_count": 3,
   "metadata": {},
   "outputs": [],
   "source": [
    "# change the current working directory where .env file lives\n",
    "os.chdir(\"/Users/Stephanie/Desktop/Folder/Analytics/eth_etf\")\n",
    "# load .env file\n",
    "dotenv.load_dotenv(\"api_key.env\")\n",
    "# setup Dune Python client\n",
    "dune = DuneClient.from_env()"
   ]
  },
  {
   "cell_type": "markdown",
   "metadata": {},
   "source": [
    "SWAPS BY DATE"
   ]
  },
  {
   "cell_type": "code",
   "execution_count": 5,
   "metadata": {},
   "outputs": [
    {
     "name": "stderr",
     "output_type": "stream",
     "text": [
      "2024-05-26 17:44:31,225 INFO dune_client.api.base executing 3767801 on medium cluster\n",
      "2024-05-26 17:44:31,766 INFO dune_client.api.base waiting for query execution 01HYVH7B1Y8XGMEKEBC897S6D8 to complete: ExecutionState.PENDING (queue position: 1)\n",
      "2024-05-26 17:44:33,054 INFO dune_client.api.base waiting for query execution 01HYVH7B1Y8XGMEKEBC897S6D8 to complete: ExecutionState.EXECUTING\n",
      "2024-05-26 17:44:34,386 INFO dune_client.api.base waiting for query execution 01HYVH7B1Y8XGMEKEBC897S6D8 to complete: ExecutionState.EXECUTING\n",
      "2024-05-26 17:44:35,657 INFO dune_client.api.base waiting for query execution 01HYVH7B1Y8XGMEKEBC897S6D8 to complete: ExecutionState.EXECUTING\n",
      "2024-05-26 17:44:36,921 INFO dune_client.api.base waiting for query execution 01HYVH7B1Y8XGMEKEBC897S6D8 to complete: ExecutionState.EXECUTING\n",
      "2024-05-26 17:44:38,106 INFO dune_client.api.base waiting for query execution 01HYVH7B1Y8XGMEKEBC897S6D8 to complete: ExecutionState.EXECUTING\n",
      "2024-05-26 17:44:39,259 INFO dune_client.api.base waiting for query execution 01HYVH7B1Y8XGMEKEBC897S6D8 to complete: ExecutionState.EXECUTING\n",
      "2024-05-26 17:44:40,433 INFO dune_client.api.base waiting for query execution 01HYVH7B1Y8XGMEKEBC897S6D8 to complete: ExecutionState.EXECUTING\n",
      "2024-05-26 17:44:41,566 INFO dune_client.api.base waiting for query execution 01HYVH7B1Y8XGMEKEBC897S6D8 to complete: ExecutionState.EXECUTING\n",
      "2024-05-26 17:44:42,709 INFO dune_client.api.base waiting for query execution 01HYVH7B1Y8XGMEKEBC897S6D8 to complete: ExecutionState.EXECUTING\n",
      "2024-05-26 17:44:44,012 INFO dune_client.api.base waiting for query execution 01HYVH7B1Y8XGMEKEBC897S6D8 to complete: ExecutionState.EXECUTING\n"
     ]
    }
   ],
   "source": [
    "requested_date = \"2024-05-20\"\n",
    "query = QueryBase(\n",
    "    query_id=3767801,\n",
    "      params=[\n",
    "        QueryParameter.text_type(name=\"date_parameter\", value=requested_date),\n",
    "    ],\n",
    ")\n",
    "\n",
    "query_result = dune.run_query_dataframe(\n",
    "  query=query\n",
    ") "
   ]
  },
  {
   "cell_type": "code",
   "execution_count": 6,
   "metadata": {},
   "outputs": [
    {
     "data": {
      "text/html": [
       "<div>\n",
       "<style scoped>\n",
       "    .dataframe tbody tr th:only-of-type {\n",
       "        vertical-align: middle;\n",
       "    }\n",
       "\n",
       "    .dataframe tbody tr th {\n",
       "        vertical-align: top;\n",
       "    }\n",
       "\n",
       "    .dataframe thead th {\n",
       "        text-align: right;\n",
       "    }\n",
       "</style>\n",
       "<table border=\"1\" class=\"dataframe\">\n",
       "  <thead>\n",
       "    <tr style=\"text-align: right;\">\n",
       "      <th></th>\n",
       "      <th>token_bought_symbol</th>\n",
       "      <th>Total USD</th>\n",
       "    </tr>\n",
       "  </thead>\n",
       "  <tbody>\n",
       "    <tr>\n",
       "      <th>0</th>\n",
       "      <td>WETH</td>\n",
       "      <td>4853837606</td>\n",
       "    </tr>\n",
       "    <tr>\n",
       "      <th>1</th>\n",
       "      <td>USDC</td>\n",
       "      <td>1912623889</td>\n",
       "    </tr>\n",
       "    <tr>\n",
       "      <th>2</th>\n",
       "      <td>USDT</td>\n",
       "      <td>1426194196</td>\n",
       "    </tr>\n",
       "    <tr>\n",
       "      <th>3</th>\n",
       "      <td>WBTC</td>\n",
       "      <td>539018387</td>\n",
       "    </tr>\n",
       "    <tr>\n",
       "      <th>4</th>\n",
       "      <td>USDe</td>\n",
       "      <td>283575301</td>\n",
       "    </tr>\n",
       "    <tr>\n",
       "      <th>...</th>\n",
       "      <td>...</td>\n",
       "      <td>...</td>\n",
       "    </tr>\n",
       "    <tr>\n",
       "      <th>1065</th>\n",
       "      <td>μϾ721</td>\n",
       "      <td>0</td>\n",
       "    </tr>\n",
       "    <tr>\n",
       "      <th>1066</th>\n",
       "      <td>HOME</td>\n",
       "      <td>0</td>\n",
       "    </tr>\n",
       "    <tr>\n",
       "      <th>1067</th>\n",
       "      <td>DOGE</td>\n",
       "      <td>0</td>\n",
       "    </tr>\n",
       "    <tr>\n",
       "      <th>1068</th>\n",
       "      <td>DUST</td>\n",
       "      <td>0</td>\n",
       "    </tr>\n",
       "    <tr>\n",
       "      <th>1069</th>\n",
       "      <td>FOFAR</td>\n",
       "      <td>0</td>\n",
       "    </tr>\n",
       "  </tbody>\n",
       "</table>\n",
       "<p>1070 rows × 2 columns</p>\n",
       "</div>"
      ],
      "text/plain": [
       "     token_bought_symbol   Total USD\n",
       "0                   WETH  4853837606\n",
       "1                   USDC  1912623889\n",
       "2                   USDT  1426194196\n",
       "3                   WBTC   539018387\n",
       "4                   USDe   283575301\n",
       "...                  ...         ...\n",
       "1065               μϾ721           0\n",
       "1066                HOME           0\n",
       "1067                DOGE           0\n",
       "1068                DUST           0\n",
       "1069               FOFAR           0\n",
       "\n",
       "[1070 rows x 2 columns]"
      ]
     },
     "execution_count": 6,
     "metadata": {},
     "output_type": "execute_result"
    }
   ],
   "source": [
    "may_20_df = pd.DataFrame(query_result)\n",
    "may_20_df['Total USD'] = pd.to_numeric(may_20_df['Total USD'], errors='coerce').fillna(0).astype(float).astype('int64')\n",
    "may_20_df"
   ]
  },
  {
   "cell_type": "code",
   "execution_count": 7,
   "metadata": {},
   "outputs": [
    {
     "name": "stderr",
     "output_type": "stream",
     "text": [
      "2024-05-26 17:44:54,649 INFO dune_client.api.base executing 3767801 on medium cluster\n",
      "2024-05-26 17:44:55,317 INFO dune_client.api.base waiting for query execution 01HYVH81XZFK2HB89198SJXE0T to complete: ExecutionState.PENDING (queue position: 1)\n"
     ]
    }
   ],
   "source": [
    "requested_date = \"2024-05-19\"\n",
    "query = QueryBase(\n",
    "    query_id=3767801,\n",
    "      params=[\n",
    "        QueryParameter.text_type(name=\"date_parameter\", value=requested_date),\n",
    "    ],\n",
    ")\n",
    "\n",
    "query_result = dune.run_query_dataframe(\n",
    "  query=query\n",
    ")"
   ]
  },
  {
   "cell_type": "code",
   "execution_count": 8,
   "metadata": {},
   "outputs": [
    {
     "data": {
      "text/html": [
       "<div>\n",
       "<style scoped>\n",
       "    .dataframe tbody tr th:only-of-type {\n",
       "        vertical-align: middle;\n",
       "    }\n",
       "\n",
       "    .dataframe tbody tr th {\n",
       "        vertical-align: top;\n",
       "    }\n",
       "\n",
       "    .dataframe thead th {\n",
       "        text-align: right;\n",
       "    }\n",
       "</style>\n",
       "<table border=\"1\" class=\"dataframe\">\n",
       "  <thead>\n",
       "    <tr style=\"text-align: right;\">\n",
       "      <th></th>\n",
       "      <th>token_bought_symbol</th>\n",
       "      <th>Total USD</th>\n",
       "    </tr>\n",
       "  </thead>\n",
       "  <tbody>\n",
       "    <tr>\n",
       "      <th>0</th>\n",
       "      <td>WETH</td>\n",
       "      <td>1608726665</td>\n",
       "    </tr>\n",
       "    <tr>\n",
       "      <th>1</th>\n",
       "      <td>USDC</td>\n",
       "      <td>783929095</td>\n",
       "    </tr>\n",
       "    <tr>\n",
       "      <th>2</th>\n",
       "      <td>USDT</td>\n",
       "      <td>777504831</td>\n",
       "    </tr>\n",
       "    <tr>\n",
       "      <th>3</th>\n",
       "      <td>wstETH</td>\n",
       "      <td>206971489</td>\n",
       "    </tr>\n",
       "    <tr>\n",
       "      <th>4</th>\n",
       "      <td>WBTC</td>\n",
       "      <td>165243880</td>\n",
       "    </tr>\n",
       "    <tr>\n",
       "      <th>...</th>\n",
       "      <td>...</td>\n",
       "      <td>...</td>\n",
       "    </tr>\n",
       "    <tr>\n",
       "      <th>993</th>\n",
       "      <td>KOK</td>\n",
       "      <td>0</td>\n",
       "    </tr>\n",
       "    <tr>\n",
       "      <th>994</th>\n",
       "      <td>Mika</td>\n",
       "      <td>0</td>\n",
       "    </tr>\n",
       "    <tr>\n",
       "      <th>995</th>\n",
       "      <td>WIF</td>\n",
       "      <td>0</td>\n",
       "    </tr>\n",
       "    <tr>\n",
       "      <th>996</th>\n",
       "      <td>sF9</td>\n",
       "      <td>0</td>\n",
       "    </tr>\n",
       "    <tr>\n",
       "      <th>997</th>\n",
       "      <td>dDAO9</td>\n",
       "      <td>0</td>\n",
       "    </tr>\n",
       "  </tbody>\n",
       "</table>\n",
       "<p>998 rows × 2 columns</p>\n",
       "</div>"
      ],
      "text/plain": [
       "    token_bought_symbol   Total USD\n",
       "0                  WETH  1608726665\n",
       "1                  USDC   783929095\n",
       "2                  USDT   777504831\n",
       "3                wstETH   206971489\n",
       "4                  WBTC   165243880\n",
       "..                  ...         ...\n",
       "993                 KOK           0\n",
       "994                Mika           0\n",
       "995                 WIF           0\n",
       "996                 sF9           0\n",
       "997               dDAO9           0\n",
       "\n",
       "[998 rows x 2 columns]"
      ]
     },
     "execution_count": 8,
     "metadata": {},
     "output_type": "execute_result"
    }
   ],
   "source": [
    "may_19_df = pd.DataFrame(query_result)\n",
    "may_19_df['Total USD'] = pd.to_numeric(may_19_df['Total USD'], errors='coerce').fillna(0).astype(float).astype('int64')\n",
    "may_19_df"
   ]
  },
  {
   "cell_type": "code",
   "execution_count": null,
   "metadata": {},
   "outputs": [],
   "source": []
  }
 ],
 "metadata": {
  "kernelspec": {
   "display_name": "base",
   "language": "python",
   "name": "python3"
  },
  "language_info": {
   "codemirror_mode": {
    "name": "ipython",
    "version": 3
   },
   "file_extension": ".py",
   "mimetype": "text/x-python",
   "name": "python",
   "nbconvert_exporter": "python",
   "pygments_lexer": "ipython3",
   "version": "3.11.4"
  }
 },
 "nbformat": 4,
 "nbformat_minor": 2
}
